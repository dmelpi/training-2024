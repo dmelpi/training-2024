{
 "cells": [
  {
   "cell_type": "markdown",
   "metadata": {},
   "source": [
    "# Example notebook to visualize sensor data acquisitions\n",
    "\n",
    "This notebook includes some simple example to import sensor acquisitions (datalogs) into pandas dataframes for analysis and processing. It is assumed that datalogs have been created using the High Speed Datalog (HSD) package.\n",
    "\n",
    "HSD includes a firmware binary to be flashed on one of the supported boards as well as a Python SDK that is available by default in the Vespucci development environment.\n",
    "\n",
    "The examples below have been tested on a STEVAL-MKBOXPRO board with FP-SNS-DATALOG2 v.1.2.1.\n",
    "\n",
    "---\n",
    "\n",
    "==> First of all, we need to install some packages that are not included in the standard Python environment in Vespucci."
   ]
  },
  {
   "cell_type": "code",
   "execution_count": null,
   "metadata": {},
   "outputs": [
    {
     "name": "stdout",
     "output_type": "stream",
     "text": [
      "Requirement already satisfied: plotly in /usr/lib/python3.8/site-packages (5.18.0)\n",
      "Requirement already satisfied: tenacity>=6.2.0 in /usr/lib/python3.8/site-packages (from plotly) (8.2.3)\n",
      "Requirement already satisfied: packaging in /usr/lib/python3.8/site-packages (from plotly) (23.2)\n",
      "\n",
      "\u001b[1m[\u001b[0m\u001b[34;49mnotice\u001b[0m\u001b[1;39;49m]\u001b[0m\u001b[39;49m A new release of pip is available: \u001b[0m\u001b[31;49m23.3.2\u001b[0m\u001b[39;49m -> \u001b[0m\u001b[32;49m24.0\u001b[0m\n",
      "\u001b[1m[\u001b[0m\u001b[34;49mnotice\u001b[0m\u001b[1;39;49m]\u001b[0m\u001b[39;49m To update, run: \u001b[0m\u001b[32;49mpip install --upgrade pip\u001b[0m\n",
      "Note: you may need to restart the kernel to use updated packages.\n",
      "Requirement already satisfied: ipywidgets in /usr/lib/python3.8/site-packages (8.1.1)\n",
      "Requirement already satisfied: traitlets>=4.3.1 in /usr/lib/python3.8/site-packages (from ipywidgets) (5.14.1)\n",
      "Requirement already satisfied: comm>=0.1.3 in /usr/lib/python3.8/site-packages (from ipywidgets) (0.2.1)\n",
      "Requirement already satisfied: ipython>=6.1.0 in /usr/lib/python3.8/site-packages (from ipywidgets) (8.12.3)\n",
      "Requirement already satisfied: jupyterlab-widgets~=3.0.9 in /usr/lib/python3.8/site-packages (from ipywidgets) (3.0.9)\n",
      "Requirement already satisfied: widgetsnbextension~=4.0.9 in /usr/lib/python3.8/site-packages (from ipywidgets) (4.0.9)\n",
      "Requirement already satisfied: jedi>=0.16 in /usr/lib/python3.8/site-packages (from ipython>=6.1.0->ipywidgets) (0.19.1)\n",
      "Requirement already satisfied: decorator in /usr/lib/python3.8/site-packages (from ipython>=6.1.0->ipywidgets) (5.1.1)\n",
      "Requirement already satisfied: pexpect>4.3 in /usr/lib/python3.8/site-packages (from ipython>=6.1.0->ipywidgets) (4.9.0)\n",
      "Requirement already satisfied: stack-data in /usr/lib/python3.8/site-packages (from ipython>=6.1.0->ipywidgets) (0.6.3)\n",
      "Requirement already satisfied: matplotlib-inline in /usr/lib/python3.8/site-packages (from ipython>=6.1.0->ipywidgets) (0.1.6)\n",
      "Requirement already satisfied: pygments>=2.4.0 in /usr/lib/python3.8/site-packages (from ipython>=6.1.0->ipywidgets) (2.17.2)\n",
      "Requirement already satisfied: typing-extensions in /usr/lib/python3.8/site-packages (from ipython>=6.1.0->ipywidgets) (4.9.0)\n",
      "Requirement already satisfied: pickleshare in /usr/lib/python3.8/site-packages (from ipython>=6.1.0->ipywidgets) (0.7.5)\n",
      "Requirement already satisfied: prompt-toolkit!=3.0.37,<3.1.0,>=3.0.30 in /usr/lib/python3.8/site-packages (from ipython>=6.1.0->ipywidgets) (3.0.43)\n",
      "Requirement already satisfied: backcall in /usr/lib/python3.8/site-packages (from ipython>=6.1.0->ipywidgets) (0.2.0)\n",
      "Requirement already satisfied: parso<0.9.0,>=0.8.3 in /usr/lib/python3.8/site-packages (from jedi>=0.16->ipython>=6.1.0->ipywidgets) (0.8.3)\n",
      "Requirement already satisfied: ptyprocess>=0.5 in /usr/lib/python3.8/site-packages (from pexpect>4.3->ipython>=6.1.0->ipywidgets) (0.7.0)\n",
      "Requirement already satisfied: wcwidth in /usr/lib/python3.8/site-packages (from prompt-toolkit!=3.0.37,<3.1.0,>=3.0.30->ipython>=6.1.0->ipywidgets) (0.2.13)\n",
      "Requirement already satisfied: asttokens>=2.1.0 in /usr/lib/python3.8/site-packages (from stack-data->ipython>=6.1.0->ipywidgets) (2.4.1)\n",
      "Requirement already satisfied: executing>=1.2.0 in /usr/lib/python3.8/site-packages (from stack-data->ipython>=6.1.0->ipywidgets) (2.0.1)\n",
      "Requirement already satisfied: pure-eval in /usr/lib/python3.8/site-packages (from stack-data->ipython>=6.1.0->ipywidgets) (0.2.2)\n",
      "Requirement already satisfied: six>=1.12.0 in /usr/lib/python3.8/site-packages (from asttokens>=2.1.0->stack-data->ipython>=6.1.0->ipywidgets) (1.16.0)\n",
      "\n",
      "\u001b[1m[\u001b[0m\u001b[34;49mnotice\u001b[0m\u001b[1;39;49m]\u001b[0m\u001b[39;49m A new release of pip is available: \u001b[0m\u001b[31;49m23.3.2\u001b[0m\u001b[39;49m -> \u001b[0m\u001b[32;49m24.0\u001b[0m\n",
      "\u001b[1m[\u001b[0m\u001b[34;49mnotice\u001b[0m\u001b[1;39;49m]\u001b[0m\u001b[39;49m To update, run: \u001b[0m\u001b[32;49mpip install --upgrade pip\u001b[0m\n",
      "Note: you may need to restart the kernel to use updated packages.\n",
      "Requirement already satisfied: nbformat in /usr/lib/python3.8/site-packages (5.9.2)\n",
      "Requirement already satisfied: fastjsonschema in /usr/lib/python3.8/site-packages (from nbformat) (2.19.1)\n",
      "Requirement already satisfied: traitlets>=5.1 in /usr/lib/python3.8/site-packages (from nbformat) (5.14.1)\n",
      "Requirement already satisfied: jsonschema>=2.6 in /usr/lib/python3.8/site-packages (from nbformat) (4.21.1)\n",
      "Requirement already satisfied: jupyter-core in /usr/lib/python3.8/site-packages (from nbformat) (5.7.1)\n",
      "Requirement already satisfied: rpds-py>=0.7.1 in /usr/lib/python3.8/site-packages (from jsonschema>=2.6->nbformat) (0.17.1)\n",
      "Requirement already satisfied: pkgutil-resolve-name>=1.3.10 in /usr/lib/python3.8/site-packages (from jsonschema>=2.6->nbformat) (1.3.10)\n",
      "Requirement already satisfied: jsonschema-specifications>=2023.03.6 in /usr/lib/python3.8/site-packages (from jsonschema>=2.6->nbformat) (2023.12.1)\n",
      "Requirement already satisfied: referencing>=0.28.4 in /usr/lib/python3.8/site-packages (from jsonschema>=2.6->nbformat) (0.33.0)\n",
      "Requirement already satisfied: importlib-resources>=1.4.0 in /usr/lib/python3.8/site-packages (from jsonschema>=2.6->nbformat) (6.1.1)\n",
      "Requirement already satisfied: attrs>=22.2.0 in /usr/lib/python3.8/site-packages (from jsonschema>=2.6->nbformat) (23.2.0)\n",
      "Requirement already satisfied: platformdirs>=2.5 in /usr/lib/python3.8/site-packages (from jupyter-core->nbformat) (4.1.0)\n",
      "Requirement already satisfied: zipp>=3.1.0 in /usr/lib/python3.8/site-packages (from importlib-resources>=1.4.0->jsonschema>=2.6->nbformat) (3.17.0)\n",
      "\n",
      "\u001b[1m[\u001b[0m\u001b[34;49mnotice\u001b[0m\u001b[1;39;49m]\u001b[0m\u001b[39;49m A new release of pip is available: \u001b[0m\u001b[31;49m23.3.2\u001b[0m\u001b[39;49m -> \u001b[0m\u001b[32;49m24.0\u001b[0m\n",
      "\u001b[1m[\u001b[0m\u001b[34;49mnotice\u001b[0m\u001b[1;39;49m]\u001b[0m\u001b[39;49m To update, run: \u001b[0m\u001b[32;49mpip install --upgrade pip\u001b[0m\n",
      "Note: you may need to restart the kernel to use updated packages.\n",
      "Requirement already satisfied: ipyfilechooser in /usr/lib/python3.8/site-packages (0.6.0)\n",
      "Requirement already satisfied: ipywidgets in /usr/lib/python3.8/site-packages (from ipyfilechooser) (8.1.1)\n",
      "Requirement already satisfied: comm>=0.1.3 in /usr/lib/python3.8/site-packages (from ipywidgets->ipyfilechooser) (0.2.1)\n",
      "Requirement already satisfied: jupyterlab-widgets~=3.0.9 in /usr/lib/python3.8/site-packages (from ipywidgets->ipyfilechooser) (3.0.9)\n",
      "Requirement already satisfied: ipython>=6.1.0 in /usr/lib/python3.8/site-packages (from ipywidgets->ipyfilechooser) (8.12.3)\n",
      "Requirement already satisfied: traitlets>=4.3.1 in /usr/lib/python3.8/site-packages (from ipywidgets->ipyfilechooser) (5.14.1)\n",
      "Requirement already satisfied: widgetsnbextension~=4.0.9 in /usr/lib/python3.8/site-packages (from ipywidgets->ipyfilechooser) (4.0.9)\n",
      "Requirement already satisfied: pexpect>4.3 in /usr/lib/python3.8/site-packages (from ipython>=6.1.0->ipywidgets->ipyfilechooser) (4.9.0)\n",
      "Requirement already satisfied: stack-data in /usr/lib/python3.8/site-packages (from ipython>=6.1.0->ipywidgets->ipyfilechooser) (0.6.3)\n",
      "Requirement already satisfied: jedi>=0.16 in /usr/lib/python3.8/site-packages (from ipython>=6.1.0->ipywidgets->ipyfilechooser) (0.19.1)\n",
      "Requirement already satisfied: pickleshare in /usr/lib/python3.8/site-packages (from ipython>=6.1.0->ipywidgets->ipyfilechooser) (0.7.5)\n",
      "Requirement already satisfied: pygments>=2.4.0 in /usr/lib/python3.8/site-packages (from ipython>=6.1.0->ipywidgets->ipyfilechooser) (2.17.2)\n",
      "Requirement already satisfied: prompt-toolkit!=3.0.37,<3.1.0,>=3.0.30 in /usr/lib/python3.8/site-packages (from ipython>=6.1.0->ipywidgets->ipyfilechooser) (3.0.43)\n",
      "Requirement already satisfied: typing-extensions in /usr/lib/python3.8/site-packages (from ipython>=6.1.0->ipywidgets->ipyfilechooser) (4.9.0)\n",
      "Requirement already satisfied: backcall in /usr/lib/python3.8/site-packages (from ipython>=6.1.0->ipywidgets->ipyfilechooser) (0.2.0)\n",
      "Requirement already satisfied: matplotlib-inline in /usr/lib/python3.8/site-packages (from ipython>=6.1.0->ipywidgets->ipyfilechooser) (0.1.6)\n",
      "Requirement already satisfied: decorator in /usr/lib/python3.8/site-packages (from ipython>=6.1.0->ipywidgets->ipyfilechooser) (5.1.1)\n",
      "Requirement already satisfied: parso<0.9.0,>=0.8.3 in /usr/lib/python3.8/site-packages (from jedi>=0.16->ipython>=6.1.0->ipywidgets->ipyfilechooser) (0.8.3)\n",
      "Requirement already satisfied: ptyprocess>=0.5 in /usr/lib/python3.8/site-packages (from pexpect>4.3->ipython>=6.1.0->ipywidgets->ipyfilechooser) (0.7.0)\n",
      "Requirement already satisfied: wcwidth in /usr/lib/python3.8/site-packages (from prompt-toolkit!=3.0.37,<3.1.0,>=3.0.30->ipython>=6.1.0->ipywidgets->ipyfilechooser) (0.2.13)\n",
      "Requirement already satisfied: pure-eval in /usr/lib/python3.8/site-packages (from stack-data->ipython>=6.1.0->ipywidgets->ipyfilechooser) (0.2.2)\n",
      "Requirement already satisfied: asttokens>=2.1.0 in /usr/lib/python3.8/site-packages (from stack-data->ipython>=6.1.0->ipywidgets->ipyfilechooser) (2.4.1)\n",
      "Requirement already satisfied: executing>=1.2.0 in /usr/lib/python3.8/site-packages (from stack-data->ipython>=6.1.0->ipywidgets->ipyfilechooser) (2.0.1)\n",
      "Requirement already satisfied: six>=1.12.0 in /usr/lib/python3.8/site-packages (from asttokens>=2.1.0->stack-data->ipython>=6.1.0->ipywidgets->ipyfilechooser) (1.16.0)\n",
      "\n",
      "\u001b[1m[\u001b[0m\u001b[34;49mnotice\u001b[0m\u001b[1;39;49m]\u001b[0m\u001b[39;49m A new release of pip is available: \u001b[0m\u001b[31;49m23.3.2\u001b[0m\u001b[39;49m -> \u001b[0m\u001b[32;49m24.0\u001b[0m\n",
      "\u001b[1m[\u001b[0m\u001b[34;49mnotice\u001b[0m\u001b[1;39;49m]\u001b[0m\u001b[39;49m To update, run: \u001b[0m\u001b[32;49mpip install --upgrade pip\u001b[0m\n",
      "Note: you may need to restart the kernel to use updated packages.\n"
     ]
    }
   ],
   "source": [
    "%pip install plotly\n",
    "%pip install ipywidgets\n",
    "%pip install nbformat\n",
    "%pip install ipyfilechooser"
   ]
  },
  {
   "cell_type": "markdown",
   "metadata": {},
   "source": [
    "After installation is complete, please make sure to select the \"Python 3.8.3 64-bit\" interpreter (top right corner) and run the following cell to make sure all needed libraries are available.\n",
    "\n",
    "**NOW IMPORTING ALL THE REQUIRED PACKAGES AND CLASSES.**"
   ]
  },
  {
   "cell_type": "code",
   "execution_count": null,
   "metadata": {},
   "outputs": [],
   "source": [
    "import st_hsdatalog.HSD_utils.logger as logger\n",
    "from st_hsdatalog.HSD.HSDatalog import HSDatalog\n",
    "from ipywidgets import *\n",
    "import plotly.express as px"
   ]
  },
  {
   "cell_type": "markdown",
   "metadata": {},
   "source": [
    "The firsts step is importing the Python HSD module and create an hsd object.\n",
    "\n",
    "hsd must be created by passing a folder where acquisition data has been stored."
   ]
  },
  {
   "cell_type": "code",
   "execution_count": null,
   "metadata": {},
   "outputs": [],
   "source": [
    "from ipyfilechooser import FileChooser\n",
    "fc = FileChooser('/home/workspace')"
   ]
  },
  {
   "cell_type": "code",
   "execution_count": null,
   "metadata": {},
   "outputs": [
    {
     "ename": "MissingSensorModelError",
     "evalue": "",
     "output_type": "error",
     "traceback": [
      "\u001b[0;31m---------------------------------------------------------------------------\u001b[0m",
      "\u001b[0;31mMissingSensorModelError\u001b[0m                   Traceback (most recent call last)",
      "\u001b[1;32m/home/workspace/67ba1ce2-3e8e-46bf-88ea-ab107377020e/230907_atr/dataviz_1.ipynb Cell 7\u001b[0m line \u001b[0;36m3\n\u001b[1;32m      <a href='vscode-notebook-cell:/home/workspace/67ba1ce2-3e8e-46bf-88ea-ab107377020e/230907_atr/dataviz_1.ipynb#W6sZmlsZQ%3D%3D%20?line=0'>1</a>\u001b[0m hsd_factory \u001b[39m=\u001b[39m HSDatalog()\n\u001b[1;32m      <a href='vscode-notebook-cell:/home/workspace/67ba1ce2-3e8e-46bf-88ea-ab107377020e/230907_atr/dataviz_1.ipynb#W6sZmlsZQ%3D%3D%20?line=1'>2</a>\u001b[0m acq_folder \u001b[39m=\u001b[39m \u001b[39m\"\u001b[39m\u001b[39m20230929_11_52_09\u001b[39m\u001b[39m\"\u001b[39m\n\u001b[0;32m----> <a href='vscode-notebook-cell:/home/workspace/67ba1ce2-3e8e-46bf-88ea-ab107377020e/230907_atr/dataviz_1.ipynb#W6sZmlsZQ%3D%3D%20?line=2'>3</a>\u001b[0m hsd \u001b[39m=\u001b[39m hsd_factory\u001b[39m.\u001b[39;49mcreate_hsd(acq_folder)\n\u001b[1;32m      <a href='vscode-notebook-cell:/home/workspace/67ba1ce2-3e8e-46bf-88ea-ab107377020e/230907_atr/dataviz_1.ipynb#W6sZmlsZQ%3D%3D%20?line=3'>4</a>\u001b[0m hsd\u001b[39m.\u001b[39menable_timestamp_recovery(\u001b[39mTrue\u001b[39;00m)\n\u001b[1;32m      <a href='vscode-notebook-cell:/home/workspace/67ba1ce2-3e8e-46bf-88ea-ab107377020e/230907_atr/dataviz_1.ipynb#W6sZmlsZQ%3D%3D%20?line=4'>5</a>\u001b[0m component_list \u001b[39m=\u001b[39m HSDatalog\u001b[39m.\u001b[39mget_all_components(hsd, only_active\u001b[39m=\u001b[39m\u001b[39mTrue\u001b[39;00m)\n",
      "File \u001b[0;32m/usr/lib/python3.8/site-packages/st_hsdatalog/HSD/HSDatalog.py:47\u001b[0m, in \u001b[0;36mHSDatalog.create_hsd\u001b[0;34m(self, acquisition_folder, device_config)\u001b[0m\n\u001b[1;32m     44\u001b[0m     \u001b[39mself\u001b[39m\u001b[39m.\u001b[39mis_datalog2 \u001b[39m=\u001b[39m \u001b[39mTrue\u001b[39;00m\n\u001b[1;32m     46\u001b[0m \u001b[39mif\u001b[39;00m \u001b[39mself\u001b[39m\u001b[39m.\u001b[39mis_datalog2:\n\u001b[0;32m---> 47\u001b[0m     hsd \u001b[39m=\u001b[39m HSDatalog_v2(\u001b[39mself\u001b[39;49m\u001b[39m.\u001b[39;49macquisition_folder)\n\u001b[1;32m     48\u001b[0m \u001b[39mreturn\u001b[39;00m hsd\n",
      "File \u001b[0;32m/usr/lib/python3.8/site-packages/st_hsdatalog/HSD/HSDatalog_v2.py:75\u001b[0m, in \u001b[0;36mHSDatalog_v2.__init__\u001b[0;34m(self, acquisition_folder)\u001b[0m\n\u001b[1;32m     73\u001b[0m device_json_file_path \u001b[39m=\u001b[39m \u001b[39mself\u001b[39m\u001b[39m.\u001b[39m__find_file(\u001b[39m\"\u001b[39m\u001b[39mdevice_config.json\u001b[39m\u001b[39m\"\u001b[39m, acquisition_folder)\n\u001b[1;32m     74\u001b[0m \u001b[39mif\u001b[39;00m device_json_file_path \u001b[39mis\u001b[39;00m \u001b[39mNone\u001b[39;00m:\n\u001b[0;32m---> 75\u001b[0m     \u001b[39mraise\u001b[39;00m MissingSensorModelError\n\u001b[1;32m     76\u001b[0m \u001b[39mself\u001b[39m\u001b[39m.\u001b[39m__load_device_from_file(device_json_file_path)\n\u001b[1;32m     77\u001b[0m \u001b[39mtry\u001b[39;00m:\n",
      "\u001b[0;31mMissingSensorModelError\u001b[0m: "
     ]
    }
   ],
   "source": [
    "hsd_factory = HSDatalog()\n",
    "acq_folder = \"/home/workspace/67ba1ce2-3e8e-46bf-88ea-ab107377020e/230907_atr/models/asset_tracking/logs/20231018_08_46_58\"\n",
    "hsd = hsd_factory.create_hsd(acq_folder)\n",
    "hsd.enable_timestamp_recovery(True)\n",
    "component_list = HSDatalog.get_all_components(hsd, only_active=True)"
   ]
  },
  {
   "cell_type": "code",
   "execution_count": null,
   "metadata": {},
   "outputs": [],
   "source": [
    "print(component_list)"
   ]
  },
  {
   "cell_type": "code",
   "execution_count": null,
   "metadata": {},
   "outputs": [],
   "source": [
    "log = logger.setup_applevel_logger(is_debug = False, file_name= \"app_debug.log\")\n",
    "start_time = 0\n",
    "end_time = -1\n",
    "labeled = False\n",
    "raw_data = False\n",
    "\n",
    "for component in component_list:\n",
    "                try:\n",
    "                    df = HSDatalog.get_dataframe(hsd, component, start_time, end_time, labeled, raw_data)\n",
    "                    if not (df is None or len(df) == 0):\n",
    "                        for d in df:\n",
    "                            log.info(\"\\nDataFrame - Start time: {}, End time: {}\\n{}\".format(start_time, d.values[-1][0] ,d))\n",
    "                except Exception as err:\n",
    "                    log.exception(err)"
   ]
  },
  {
   "cell_type": "code",
   "execution_count": null,
   "metadata": {},
   "outputs": [],
   "source": [
    "acc = df[0][['A_x [g]','A_y [g]','A_z [g]']]\n",
    "acc"
   ]
  },
  {
   "cell_type": "code",
   "execution_count": null,
   "metadata": {},
   "outputs": [],
   "source": [
    "acc.describe()"
   ]
  },
  {
   "cell_type": "code",
   "execution_count": null,
   "metadata": {},
   "outputs": [],
   "source": [
    "fig = px.line(acc.head(1000))\n",
    "fig"
   ]
  },
  {
   "cell_type": "code",
   "execution_count": null,
   "metadata": {},
   "outputs": [],
   "source": [
    "a = 1"
   ]
  },
  {
   "cell_type": "markdown",
   "metadata": {},
   "source": []
  }
 ],
 "metadata": {
  "orig_nbformat": 4
 },
 "nbformat": 4,
 "nbformat_minor": 2
}
