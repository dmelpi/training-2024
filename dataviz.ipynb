{
 "cells": [
  {
   "cell_type": "markdown",
   "metadata": {},
   "source": [
    "# Example notebook to visualize sensor data acquisitions\n",
    "\n",
    "This notebook includes some simple example to import sensor acquisitions (datalogs) into pandas dataframes for analysis and processing. It is assumed that datalogs have been created using the High Speed Datalog (HSD) package.\n",
    "\n",
    "HSD includes a firmware binary to be flashed on one of the supported boards as well as a Python SDK that is available by default in the Vespucci development environment.\n",
    "\n",
    "The examples below have been tested on a STEVAL-MKBOXPRO board with FP-SNS-DATALOG2 v.1.2.1.\n",
    "\n",
    "---\n",
    "\n",
    "==> First of all, we need to install some packages that are not included in the standard Python environment in Vespucci."
   ]
  },
  {
   "cell_type": "code",
   "execution_count": null,
   "metadata": {},
   "outputs": [],
   "source": [
    "%pip install plotly\n",
    "%pip install ipywidgets\n",
    "%pip install nbformat\n",
    "%pip install ipyfilechooser"
   ]
  },
  {
   "cell_type": "markdown",
   "metadata": {},
   "source": [
    "After installation is complete, please make sure to select the \"Python 3.8.3 64-bit\" interpreter (top right corner) and run the following cell to make sure all needed libraries are available.\n",
    "\n",
    "**NOW IMPORTING ALL THE REQUIRED PACKAGES AND CLASSES.**"
   ]
  },
  {
   "cell_type": "code",
   "execution_count": null,
   "metadata": {},
   "outputs": [],
   "source": [
    "import st_hsdatalog.HSD_utils.logger as logger\n",
    "from st_hsdatalog.HSD.HSDatalog import HSDatalog\n",
    "from ipywidgets import *\n",
    "import plotly.express as px"
   ]
  },
  {
   "cell_type": "markdown",
   "metadata": {},
   "source": [
    "The firsts step is importing the Python HSD module and create an hsd object.\n",
    "\n",
    "hsd must be created by passing a folder where acquisition data has been stored."
   ]
  },
  {
   "cell_type": "code",
   "execution_count": null,
   "metadata": {},
   "outputs": [],
   "source": [
    "from ipyfilechooser import FileChooser\n",
    "fc = FileChooser('/home/workspace')"
   ]
  },
  {
   "cell_type": "code",
   "execution_count": null,
   "metadata": {},
   "outputs": [],
   "source": [
    "hsd_factory = HSDatalog()\n",
    "acq_folder = \"/home/workspace/67ba1ce2-3e8e-46bf-88ea-ab107377020e/230907_atr/models/asset_tracking/logs/20231018_08_46_58\"\n",
    "hsd = hsd_factory.create_hsd(acq_folder)\n",
    "hsd.enable_timestamp_recovery(True)\n",
    "component_list = HSDatalog.get_all_components(hsd, only_active=True)"
   ]
  },
  {
   "cell_type": "code",
   "execution_count": null,
   "metadata": {},
   "outputs": [],
   "source": [
    "print(component_list)"
   ]
  },
  {
   "cell_type": "code",
   "execution_count": null,
   "metadata": {},
   "outputs": [],
   "source": [
    "log = logger.setup_applevel_logger(is_debug = False, file_name= \"app_debug.log\")\n",
    "start_time = 0\n",
    "end_time = -1\n",
    "labeled = False\n",
    "raw_data = False\n",
    "\n",
    "for component in component_list:\n",
    "                try:\n",
    "                    df = HSDatalog.get_dataframe(hsd, component, start_time, end_time, labeled, raw_data)\n",
    "                    if not (df is None or len(df) == 0):\n",
    "                        for d in df:\n",
    "                            log.info(\"\\nDataFrame - Start time: {}, End time: {}\\n{}\".format(start_time, d.values[-1][0] ,d))\n",
    "                except Exception as err:\n",
    "                    log.exception(err)"
   ]
  },
  {
   "cell_type": "code",
   "execution_count": null,
   "metadata": {},
   "outputs": [],
   "source": [
    "acc = df[0][['A_x [g]','A_y [g]','A_z [g]']]\n",
    "acc"
   ]
  },
  {
   "cell_type": "code",
   "execution_count": null,
   "metadata": {},
   "outputs": [],
   "source": [
    "acc.describe()"
   ]
  },
  {
   "cell_type": "code",
   "execution_count": null,
   "metadata": {},
   "outputs": [],
   "source": [
    "fig = px.line(acc.head(1000))\n",
    "fig"
   ]
  },
  {
   "cell_type": "code",
   "execution_count": null,
   "metadata": {},
   "outputs": [],
   "source": [
    "a = 1"
   ]
  },
  {
   "cell_type": "markdown",
   "metadata": {},
   "source": []
  }
 ],
 "metadata": {
  "orig_nbformat": 4
 },
 "nbformat": 4,
 "nbformat_minor": 2
}
